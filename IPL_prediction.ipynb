{
 "cells": [
  {
   "cell_type": "markdown",
   "metadata": {},
   "source": [
    "# IPL MATCH PREDICTION\n",
    "\n",
    "> The main aim of this project is to predict the outcome of an IPL match by considering certain factors that are available in the dataset."
   ]
  },
  {
   "cell_type": "markdown",
   "metadata": {},
   "source": [
    "### Importing the required packages"
   ]
  },
  {
   "cell_type": "code",
   "execution_count": null,
   "metadata": {},
   "outputs": [],
   "source": [
    "import pandas as pd\n",
    "from matplotlib import pyplot as plt\n",
    "import numpy as np\n",
    "import seaborn as sns\n",
    "from pandas import DataFrame\n",
    "from sklearn.linear_model import LogisticRegression\n",
    "from sklearn.model_selection import train_test_split"
   ]
  },
  {
   "cell_type": "code",
   "execution_count": null,
   "metadata": {},
   "outputs": [],
   "source": [
    "#importing the dataset\n",
    "iplmatches = pd.read_csv('matches.csv')"
   ]
  },
  {
   "cell_type": "code",
   "execution_count": null,
   "metadata": {},
   "outputs": [],
   "source": [
    "#viewing few lines of the dataset\n",
    "iplmatches.head(5)"
   ]
  },
  {
   "cell_type": "code",
   "execution_count": null,
   "metadata": {},
   "outputs": [],
   "source": [
    "#summarizing the dataset\n",
    "iplmatches.describe()"
   ]
  },
  {
   "cell_type": "code",
   "execution_count": null,
   "metadata": {},
   "outputs": [],
   "source": [
    "#finding the pair-wise correlation of all the column pairs\n",
    "iplmatches.corr()"
   ]
  },
  {
   "cell_type": "markdown",
   "metadata": {},
   "source": [
    "### Visualization"
   ]
  },
  {
   "cell_type": "code",
   "execution_count": null,
   "metadata": {},
   "outputs": [],
   "source": [
    "#plot to visualize total number of matches each season\n",
    "\n",
    "sns.countplot(x = 'season', data = iplmatches)\n",
    "plt.title('Number of matches each season')\n",
    "plt.show()"
   ]
  },
  {
   "cell_type": "code",
   "execution_count": null,
   "metadata": {},
   "outputs": [],
   "source": [
    "#plot depicting the total number of toss won by each team across all the seasons\n",
    "\n",
    "sns.countplot( x = 'toss_winner', data = iplmatches)\n",
    "plt.xticks(rotation='vertical')\n",
    "plt.title('Number of tosses won')"
   ]
  },
  {
   "cell_type": "code",
   "execution_count": null,
   "metadata": {},
   "outputs": [],
   "source": [
    "def matches_played(str):\n",
    "    return len(iplmatches[(iplmatches['team1']==str) | (iplmatches['team2']==str)])\n",
    "\n",
    "matches_played_KKR = matches_played('Kolkata Knight Riders')\n",
    "matches_played_MI = matches_played('Mumbai Indians')\n",
    "matches_played_KXP = matches_played('Kings XI Punjab') \n",
    "matches_played_CSK = matches_played('Chennai Super Kings') \n",
    "matches_played_GL = matches_played('Gujarat Lions') \n",
    "matches_played_DD = matches_played('Delhi Daredevils') | matches_played('Delhi Capitals') \n",
    "matches_played_RCB = matches_played('Royal Challengers Bangalore') \n",
    "matches_played_SRH = matches_played('Sunrisers Hyderabad') | matches_played('Deccan Chargers') \n",
    "matches_played_RPS = matches_played('Rising Pune Supergiants') \n",
    "matches_played_RR = matches_played('Rajasthan Royals')\n",
    "\n",
    "matches_played_RPS"
   ]
  },
  {
   "cell_type": "code",
   "execution_count": null,
   "metadata": {},
   "outputs": [],
   "source": [
    "rps_won_df = iplmatches[iplmatches['winner'] == 'Rising Pune Supergiants']\n",
    "kkr_won_df = iplmatches[iplmatches['winner'] == 'Kolkata Knight Riders']\n",
    "kxip_won_df = iplmatches[iplmatches['winner'] == 'Kings XI Punjab']\n",
    "rcb_won_df = iplmatches[iplmatches['winner'] == 'Royal Challengers Bangalore']\n",
    "srh_won_df = iplmatches[(iplmatches['winner'] == 'Sunrisers Hyderabad') | (iplmatches['winner'] == 'Deccan Chargers')]\n",
    "mi_won_df = iplmatches[iplmatches['winner'] == 'Mumbai Indians']\n",
    "gl_won_df = iplmatches[iplmatches['winner'] == 'Gujarat Lions']\n",
    "dd_won_df = iplmatches[(iplmatches['winner'] == 'Delhi Daredevils') | (iplmatches['winner'] == 'Delhi Capitals')]\n",
    "csk_won_df = iplmatches[iplmatches['winner'] == 'Chennai Super Kings']\n",
    "rr_won_df = iplmatches[iplmatches['winner'] == 'Rajasthan Royals']\n",
    "\n",
    "rps_wins = len(rps_won_df)\n",
    "kkr_wins = len(kkr_won_df)\n",
    "kxip_wins = len(kxip_won_df)\n",
    "rcb_wins = len(rcb_won_df)\n",
    "srh_wins = len(srh_won_df)\n",
    "mi_wins = len(mi_won_df)\n",
    "gl_wins = len(gl_won_df)\n",
    "dd_wins = len(dd_won_df)\n",
    "csk_wins = len(csk_won_df)\n",
    "rr_wins = len(rr_won_df)\n",
    "\n",
    "rps_wins"
   ]
  },
  {
   "cell_type": "code",
   "execution_count": null,
   "metadata": {},
   "outputs": [],
   "source": [
    "n_bins = 10\n",
    "ind = np.arange(n_bins)\n",
    "width = 0.50\n",
    "\n",
    "plt.figure(figsize=(10,10))\n",
    "\n",
    "matches_played=[matches_played_RPS, matches_played_KKR, matches_played_KXP, matches_played_RCB, matches_played_SRH, \n",
    "                matches_played_MI, matches_played_GL, matches_played_DD, matches_played_CSK, matches_played_RR]\n",
    "matches_won=[rps_wins, kkr_wins, kxip_wins, rcb_wins, srh_wins, mi_wins, gl_wins, dd_wins, csk_wins, rr_wins]\n",
    "\n",
    "p1 = plt.bar(ind, matches_played, width, color='LightSkyBlue')\n",
    "p2 = plt.bar(ind, matches_won, width, color='Lime')\n",
    "\n",
    "plt.ylabel('Number of Matches')\n",
    "plt.xlabel('Teams')\n",
    "plt.title('Overall performance of the team')\n",
    "plt.xticks(ind + width/2., ('RPS', 'KKR', 'KXIP', 'RCB', 'SRH', 'MI', 'GL', 'DD', 'CSK', 'RR'))\n",
    "plt.yticks(np.arange(0, 200, 5))\n",
    "plt.legend((p1[0], p2[0]), ('matches_played', 'matches_won'))"
   ]
  },
  {
   "cell_type": "code",
   "execution_count": null,
   "metadata": {},
   "outputs": [],
   "source": [
    "#Toss winners decision\n",
    "\n",
    "decision = iplmatches['toss_decision'].value_counts()\n",
    "plt.pie(decision, labels = decision.index, startangle = 90, counterclock = False,autopct='%1.1f%%',shadow=True)\n",
    "plt.axis('square')\n",
    "plt.title('Toss winners decision',size = 15)"
   ]
  },
  {
   "cell_type": "code",
   "execution_count": null,
   "metadata": {},
   "outputs": [],
   "source": [
    "#combined the toss_winner and ipl winner \n",
    "#true and false are total combinations of the condition\n",
    "\n",
    "winneroft = iplmatches['toss_winner'] == iplmatches['winner']\n",
    "winneroft.groupby(winneroft).size()\n",
    "sns.countplot(winneroft).set_title('Comparision of toss and match winners')"
   ]
  },
  {
   "cell_type": "code",
   "execution_count": null,
   "metadata": {},
   "outputs": [],
   "source": [
    "#seasonwise count of wins by team who won toss and won matches\n",
    "winneroftoss = iplmatches[(iplmatches['toss_winner']) == (iplmatches['winner'])]\n",
    "wot = sns.countplot( x = 'winner', hue='season', data=winneroftoss)\n",
    "sns.set(rc={'figure.figsize':(22,18)})\n",
    "plt.xticks(rotation = 'vertical')\n",
    "plt.legend(bbox_to_anchor=(1.05, 1), loc=2, borderaxespad=0.)\n",
    "plt.xlabel(\"Teams\")\n",
    "plt.ylabel(\"Number of Wins\")\n",
    "plt.title(\"Number of Teams who won, given they won the toss\")\n",
    "plt.show(wot)"
   ]
  },
  {
   "cell_type": "code",
   "execution_count": null,
   "metadata": {},
   "outputs": [],
   "source": [
    "iplmatches['winner'].unique()"
   ]
  },
  {
   "cell_type": "code",
   "execution_count": null,
   "metadata": {},
   "outputs": [],
   "source": [
    "labels = ['RPS','KKR','KXIP','RCB','SRH','MI','GL','DD','CSK','RR']\n",
    "sizes = [rps_wins, kkr_wins, kxip_wins, rcb_wins, srh_wins, mi_wins, gl_wins, dd_wins, csk_wins, rr_wins]\n",
    "colors = ['#86EDF9','#2F2057','#FD0064','#FD0000','#FD9200','#0049FD','#FDB000','#0086FD','#FDFD00','#1B00FD']\n",
    "explode = (0, 0, 0, 0.25, 0, 0, 0, 0, 0, 0)\n",
    "\n",
    "plt.pie(sizes, explode=explode, labels=labels, colors=colors,\n",
    "        autopct='%1.1f%%', shadow=True, startangle=90,radius=0.5)\n",
    "plt.title(\"Number of matches won by each team through the years\")"
   ]
  },
  {
   "cell_type": "code",
   "execution_count": null,
   "metadata": {},
   "outputs": [],
   "source": [
    "#number of times home team has won the match\n",
    "\n",
    "won = iplmatches['team1'] == iplmatches['winner']\n",
    "winneroft.groupby(winneroft).size()\n",
    "sns.set(rc={'figure.figsize':(10,6)})\n",
    "sns.countplot(winneroft).set_title('Comparision of toss and match winners')"
   ]
  },
  {
   "cell_type": "code",
   "execution_count": null,
   "metadata": {},
   "outputs": [],
   "source": [
    "#number matches in bengaluru that RCB has won/lost\n",
    "\n",
    "matches_in_bengaluru = iplmatches[(iplmatches['city'] == 'Bengaluru') | (iplmatches['city'] == 'Bangalore')]\n",
    "matches_won_by_RCB = len(matches_in_bengaluru[matches_in_bengaluru['winner'] == 'Royal Challengers Bangalore'])\n",
    "matches_lost_by_RCB = len(matches_in_bengaluru[matches_in_bengaluru['winner'] != 'Royal Challengers Bangalore'])\n",
    "data = (matches_won_by_RCB, matches_lost_by_RCB)\n",
    "rcb = pd.DataFrame(data = data, index = ['won','lost'])\n",
    "plt.pie(rcb, labels = rcb.index, startangle = 90, counterclock = False,autopct='%1.1f%%',shadow=True)\n",
    "plt.axis('square')\n",
    "plt.title(\"RCB's home matches results\",size = 25)"
   ]
  },
  {
   "cell_type": "code",
   "execution_count": null,
   "metadata": {},
   "outputs": [],
   "source": [
    "#top player of matches winners\n",
    "\n",
    "plt.figure(figsize=(10,10))\n",
    "top_players = iplmatches['player_of_match'].value_counts().head(10)\n",
    "top_players.plot(kind = 'bar')\n",
    "plt.title(\"Players with the most number of 'man of the match' award\")\n",
    "plt.xticks(rotation = 90)"
   ]
  },
  {
   "cell_type": "code",
   "execution_count": null,
   "metadata": {},
   "outputs": [],
   "source": [
    "team_wins = iplmatches['winner'].value_counts()\n",
    "team_wins.columns = ['Teams','Wins']\n",
    "\n",
    "plt.plot(team_wins, color = 'red')\n",
    "plt.title('Total number of wins',size = 20)\n",
    "plt.xticks(rotation = 90)"
   ]
  },
  {
   "cell_type": "code",
   "execution_count": null,
   "metadata": {},
   "outputs": [],
   "source": [
    "fig, ax = plt.subplots()\n",
    "for color in ['tab:blue', 'tab:orange', 'tab:green']:\n",
    "    n = 750\n",
    "    scale = 200.0 * np.random.rand(n)\n",
    "    ax.scatter(iplmatches['team1'],iplmatches['team2'], c=color, s=scale, label=color,\n",
    "               alpha=0.3, edgecolors='none')\n",
    "\n",
    "ax.legend()\n",
    "ax.grid(True)\n",
    "\n",
    "plt.title('Number of matches played against each other',size = 20)\n",
    "plt.xticks(rotation = 90)\n",
    "plt.show()"
   ]
  },
  {
   "cell_type": "code",
   "execution_count": null,
   "metadata": {},
   "outputs": [],
   "source": [
    "#plotting the heatmap of the correlation matrix\n",
    "\n",
    "corr = iplmatches.corr()\n",
    "ax = sns.heatmap(corr, vmin=-1, vmax=1, center=0, cmap=sns.diverging_palette(20, 220, n=200), square=True)\n",
    "ax.set_xticklabels(ax.get_xticklabels(), rotation=45, horizontalalignment='right')\n",
    "ax.set_yticklabels(ax.get_yticklabels(), rotation = 0)"
   ]
  },
  {
   "cell_type": "markdown",
   "metadata": {},
   "source": [
    "#### Importing the second dataset"
   ]
  },
  {
   "cell_type": "code",
   "execution_count": null,
   "metadata": {},
   "outputs": [],
   "source": [
    "matches = pd.read_csv('matches_cleaned.csv')\n",
    "matches.head(5)"
   ]
  },
  {
   "cell_type": "markdown",
   "metadata": {},
   "source": [
    "### Cleaning the dataset"
   ]
  },
  {
   "cell_type": "code",
   "execution_count": null,
   "metadata": {},
   "outputs": [],
   "source": [
    "# Make a copy of the dataset that you imported or used before\n",
    "\n",
    "copy_data = matches.copy()\n",
    "copy_data['city'].fillna('Dubai',inplace=True)\n",
    "copy_data['umpire1'].fillna('Aleem Dar',inplace=True)"
   ]
  },
  {
   "cell_type": "code",
   "execution_count": null,
   "metadata": {},
   "outputs": [],
   "source": [
    "#check for NULL or NaN values\n",
    "\n",
    "null_values_col = copy_data.isnull().sum()\n",
    "null_values_col = null_values_col[null_values_col != 0].sort_values(ascending = False).reset_index()\n",
    "null_values_col.columns = [\"variable\", \"number of missing\"]\n",
    "null_values_col.head()"
   ]
  },
  {
   "cell_type": "code",
   "execution_count": null,
   "metadata": {},
   "outputs": [],
   "source": [
    "df = DataFrame(copy_data,columns=['team1', 'team2', 'toss_decision','toss_winner','city', 'venue', 'season', 'win_by_runs', 'win_by_wickets', 'umpire1', 'Home win', 'winner'])"
   ]
  },
  {
   "cell_type": "code",
   "execution_count": null,
   "metadata": {},
   "outputs": [],
   "source": [
    "#replace team names with abbrevations\n",
    "\n",
    "df.replace(['Mumbai Indians','Kolkata Knight Riders','Royal Challengers Bangalore','Deccan Chargers','Chennai Super Kings',\n",
    "                 'Rajasthan Royals','Delhi Daredevils','Gujarat Lions','Kings XI Punjab',\n",
    "                 'Sunrisers Hyderabad','Rising Pune Supergiants','Kochi Tuskers Kerala','Pune Warriors','Delhi Capitals']\n",
    "                ,['MI','KKR','RCB','DC','CSK','RR','DD','GL','KXIP','SRH','RPS','KTK','PW','DCP'],inplace=True)"
   ]
  },
  {
   "cell_type": "code",
   "execution_count": null,
   "metadata": {},
   "outputs": [],
   "source": [
    "#Encoding the categorical data manually\n",
    "\n",
    "encode = {'team1': {'MI':1,'KKR':2,'RCB':3,'DC':4,'CSK':5,'RR':6,'DD':7,'GL':8,'KXIP':9,'SRH':10,'RPS':11,'KTK':12,'PW':13,'DCP':14},\n",
    "          'team2': {'MI':1,'KKR':2,'RCB':3,'DC':4,'CSK':5,'RR':6,'DD':7,'GL':8,'KXIP':9,'SRH':10,'RPS':11,'KTK':12,'PW':13,'DCP':14},\n",
    "          'toss_winner': {'MI':1,'KKR':2,'RCB':3,'DC':4,'CSK':5,'RR':6,'DD':7,'GL':8,'KXIP':9,'SRH':10,'RPS':11,'KTK':12,'PW':13,'DCP':14},\n",
    "          'winner': {'MI':1,'KKR':2,'RCB':3,'DC':4,'CSK':5,'RR':6,'DD':7,'GL':8,'KXIP':9,'SRH':10,'RPS':11,'KTK':12,'PW':13,'DCP':14,'Draw':15},\n",
    "          'city': {'Hyderabad':1, 'Pune':2, 'Rajkot':3, 'Indore':4, 'Bangalore':5, 'Mumbai':6,\n",
    "                   'Kolkata':7, 'Delhi':8, 'Chandigarh':9, 'Kanpur':10, 'Jaipur':11, 'Chennai':12,\n",
    "                   'Cape Town':16, 'Port Elizabeth':15, 'Durban':14, 'Centurion':13,\n",
    "                   'East London':17, 'Johannesburg':18, 'Kimberley':19, 'Bloemfontein':20,\n",
    "                   'Ahmedabad':25, 'Cuttack':24, 'Nagpur':23, 'Dharamsala':22, 'Kochi':21,\n",
    "                   'Visakhapatnam':26, 'Raipur':27, 'Ranchi':28, 'Abu Dhabi':29, 'Sharjah':30,\n",
    "                   'Mohali':31, 'Bengaluru':5,'Dubai':32}}\n",
    "df.replace(encode, inplace=True)\n"
   ]
  },
  {
   "cell_type": "code",
   "execution_count": null,
   "metadata": {},
   "outputs": [],
   "source": [
    "#encoding the rest of the categorical data using sklearn's LabelEncoder class\n",
    "\n",
    "from sklearn.preprocessing import LabelEncoder\n",
    "var_mod = ['toss_decision', 'venue', 'umpire1']\n",
    "le = LabelEncoder()\n",
    "for i in var_mod:\n",
    "    df[i] = le.fit_transform(df[i])\n",
    "    \n",
    "df['city'].unique()"
   ]
  },
  {
   "cell_type": "code",
   "execution_count": null,
   "metadata": {},
   "outputs": [],
   "source": [
    "#check for NULL or NaN values and dropping those rows\n",
    "\n",
    "df.isna().any()\n",
    "row_having_nan =  df.isnull().any(axis=1)\n",
    "rows_with_NaN = df[row_having_nan]\n",
    "rows_with_NaN\n",
    "df.dropna(subset = [\"winner\"], inplace=True)"
   ]
  },
  {
   "cell_type": "code",
   "execution_count": null,
   "metadata": {},
   "outputs": [],
   "source": [
    "#converting the type of winner and city columns from object to int \n",
    "\n",
    "df['winner'].astype(str).astype(int)\n",
    "df['city'].astype(str).astype(int)\n",
    "df.dtypes"
   ]
  },
  {
   "cell_type": "code",
   "execution_count": null,
   "metadata": {},
   "outputs": [],
   "source": [
    "#splitting the dataset\n",
    "\n",
    "x = df[['team1', 'team2', 'toss_decision','toss_winner','city', 'venue', 'season','winner', 'win_by_runs', 'win_by_wickets', 'umpire1']]\n",
    "y = df[['Home win']]"
   ]
  },
  {
   "cell_type": "code",
   "execution_count": null,
   "metadata": {},
   "outputs": [],
   "source": [
    "data = DataFrame(copy_data,columns=['season', 'win_by_runs', 'win_by_wickets', 'Home win'])\n",
    "print(data.corr())"
   ]
  },
  {
   "cell_type": "markdown",
   "metadata": {},
   "source": [
    "### Fitting regression models"
   ]
  },
  {
   "cell_type": "code",
   "execution_count": null,
   "metadata": {},
   "outputs": [],
   "source": [
    "from pandas import DataFrame\n",
    "from sklearn import linear_model\n",
    "import statsmodels.api as sm\n",
    "\n",
    "regr = linear_model.LinearRegression()\n",
    "regr.fit(x,y)\n",
    "\n",
    "model = sm.OLS(y,x.astype(float)).fit()\n",
    "\n",
    "print_model = model.summary()\n",
    "print_model"
   ]
  },
  {
   "cell_type": "code",
   "execution_count": null,
   "metadata": {},
   "outputs": [],
   "source": [
    "import warnings\n",
    "with warnings.catch_warnings():\n",
    "    warnings.simplefilter(\"ignore\")"
   ]
  },
  {
   "cell_type": "code",
   "execution_count": null,
   "metadata": {},
   "outputs": [],
   "source": [
    "#splitting the dataset into training and testing set\n",
    "X_train, X_test, y_train, y_test = train_test_split(x, y, test_size=0.3, random_state=0)"
   ]
  },
  {
   "cell_type": "code",
   "execution_count": null,
   "metadata": {},
   "outputs": [],
   "source": [
    "#fit the logisticRegression class and predict for X_test values\n",
    "\n",
    "from sklearn.linear_model import LogisticRegression\n",
    "\n",
    "logreg = LogisticRegression()\n",
    "logreg.fit(X_train, y_train)    \n",
    "\n",
    "print('Logistic Regression score of train data: {:.2f}'.format(logreg.score(X_train,y_train)))\n",
    "print('Logistic Regression score of test data: {:.2f}'.format(logreg.score(X_test,y_test)))\n",
    "\n",
    "y_pred = logreg.predict(X_test)\n",
    "print('Accuracy of logistic regression classifier on test set: {:.2f}'.format(logreg.score(X_test, y_test)))"
   ]
  },
  {
   "cell_type": "code",
   "execution_count": null,
   "metadata": {},
   "outputs": [],
   "source": [
    "train_score = []\n",
    "test_score=[]"
   ]
  },
  {
   "cell_type": "code",
   "execution_count": null,
   "metadata": {},
   "outputs": [],
   "source": [
    "import warnings\n",
    "warnings.simplefilter(action='ignore', category=FutureWarning)"
   ]
  },
  {
   "cell_type": "code",
   "execution_count": null,
   "metadata": {},
   "outputs": [],
   "source": [
    "for i in np.arange(1,80):\n",
    "    \n",
    "    logreg = LogisticRegression(penalty = 'l2', C = i,random_state = 0)\n",
    "    y_train=y_train.astype('int')\n",
    "    logreg.fit(X_train,y_train.values.ravel()) \n",
    "    \n",
    "    train_score.append(logreg.score(X_train, y_train))\n",
    "    test_score.append(logreg.score(X_test,y_test))"
   ]
  },
  {
   "cell_type": "code",
   "execution_count": null,
   "metadata": {},
   "outputs": [],
   "source": [
    "#plot a graph to visualize training and testing accuracy\n",
    "\n",
    "plt.plot(np.arange(1,80),train_score)\n",
    "plt.plot(np.arange(1,80),test_score)\n",
    "plt.legend(['Training Accuracy','Testing Accuracy'])\n",
    "plt.title('Logistic Regression Tuning')\n",
    "plt.xlabel('C')\n",
    "plt.ylabel('Accuracy')"
   ]
  },
  {
   "cell_type": "code",
   "execution_count": null,
   "metadata": {},
   "outputs": [],
   "source": [
    "df.dtypes"
   ]
  },
  {
   "cell_type": "code",
   "execution_count": null,
   "metadata": {},
   "outputs": [],
   "source": [
    "df.head()"
   ]
  },
  {
   "cell_type": "code",
   "execution_count": null,
   "metadata": {},
   "outputs": [],
   "source": [
    "encode['team1']"
   ]
  },
  {
   "cell_type": "code",
   "execution_count": null,
   "metadata": {},
   "outputs": [],
   "source": [
    "df.head()"
   ]
  },
  {
   "cell_type": "markdown",
   "metadata": {},
   "source": [
    "## Predict the winner of a particular match using Decision Tree Regression\n",
    "\n",
    "> The input to the model will be the home team, the away team, the toss winner and the city the match is played in.\n",
    "> This model will use the sklearn.tree's DecisionTreeRegression class for classification and predicts the outcome.\n",
    "> The model also outputs the accuracy of the output predicted result.\n",
    "> The decision tree graph at the end shows how the model predicts the result based on the different parameters."
   ]
  },
  {
   "cell_type": "code",
   "execution_count": null,
   "metadata": {},
   "outputs": [],
   "source": [
    "from sklearn.tree import DecisionTreeRegressor\n",
    "from sklearn import tree\n",
    "import sys\n",
    "\n",
    "home_team = input('Enter team1\\t')\n",
    "away_team = input('Enter team2\\t')\n",
    "toss_winner = input('Toss winner\\t')\n",
    "\n",
    "if((toss_winner != home_team)):\n",
    "    if(toss_winner != away_team):\n",
    "        print(\"Invalid input\")\n",
    "        sys.exit()\n",
    "\n",
    "city = input('Enter city\\t')\n",
    "\n",
    "\n",
    "x_ = df[((df['team1'] == encode['team1'][home_team]) & (df['team2'] == encode['team1'][away_team])) | ((df['team1'] == encode['team1'][away_team]) & (df['team2'] == encode['team1'][home_team]))]\n",
    "\n",
    "x_train = x_[['team1','team2','toss_winner','city']]\n",
    "y_train = x_[['winner']]\n",
    "\n",
    "y_train = y_train.astype(int)\n",
    "detreg = DecisionTreeRegressor()\n",
    "detreg.fit(x_train, y_train)\n",
    "\n",
    "data = { 'team1' : encode['team1'][home_team] , 'team2' : encode['team1'][away_team], 'toss_winner' : encode['team1'][toss_winner], 'city' : encode['city'][city] }\n",
    "a = pd.DataFrame(data, index=[0])\n",
    "result = detreg.predict(a)\n",
    "\n",
    "for name, id1 in encode['team1'].items():\n",
    "    if id1 == result[0]:\n",
    "        print('\\nProbable Winner is ',name)\n",
    "\n",
    "print('Decision Tree Regression score: {}'.format(detreg.score(x_train,y_train)))\n",
    "\n",
    "tree.plot_tree(detreg)"
   ]
  },
  {
   "cell_type": "markdown",
   "metadata": {},
   "source": [
    "## Predict the winner of a particular match using Logistic Regression\n",
    "\n",
    "> The input to the model will be the home team, the away team, the toss winner and the city the match is played in.\n",
    "> This model will use the sklearn.linear_model's LogisticRegression class for classification and predicts the outcome.\n",
    "> The model also outputs the accuracy of the output predicted result."
   ]
  },
  {
   "cell_type": "code",
   "execution_count": null,
   "metadata": {
    "scrolled": true
   },
   "outputs": [],
   "source": [
    "from sklearn.linear_model import LogisticRegression\n",
    "\n",
    "home_team = input('Enter team1\\t')\n",
    "away_team = input('Enter team2\\t')\n",
    "toss_winner = input('Toss winner\\t')\n",
    "\n",
    "if((toss_winner != home_team)):\n",
    "    if(toss_winner != away_team):\n",
    "        print(\"Invalid input\")\n",
    "        sys.exit()\n",
    "\n",
    "print('The cities are\\n')\n",
    "\n",
    "for key, value in encode['city'].items() :\n",
    "    print(key)\n",
    "city = input('Enter city\\t')\n",
    "\n",
    "\n",
    "x_ = df[((df['team1'] == encode['team1'][home_team]) & (df['team2'] == encode['team1'][away_team])) | ((df['team1'] == encode['team1'][away_team]) & (df['team2'] == encode['team1'][home_team]))]\n",
    "\n",
    "x_train = x_[['team1','team2','toss_winner','city']]\n",
    "y_train = x_[['winner']]\n",
    "\n",
    "y_train = y_train.astype(int)\n",
    "logreg = LogisticRegression()\n",
    "logreg.fit(x_train, y_train)\n",
    "\n",
    "data = { 'team1' : encode['team1'][home_team] , 'team2' : encode['team1'][away_team], 'toss_winner' : encode['team1'][toss_winner], 'city' : encode['city'][city] }\n",
    "a = pd.DataFrame(data, index=[0])\n",
    "result = logreg.predict(a)\n",
    "\n",
    "for name, id1 in encode['team1'].items():\n",
    "    if id1 == result[0]:\n",
    "        print('\\nProbable Winner is ',name)\n",
    "\n",
    "print('Logistic Regression score: {}'.format(logreg.score(x_train,y_train)))"
   ]
  },
  {
   "cell_type": "markdown",
   "metadata": {},
   "source": [
    "## Predict the winner of a particular match using Naive Bayes Classifier\n",
    "\n",
    "> The input to the model will be the home team, the away team, the toss winner and the city the match is played in.\n",
    "> This model will use the sklearn.linear_model's LogisticRegression class for classification and predicts the outcome.\n",
    "> The model also outputs the accuracy of the output predicted result."
   ]
  },
  {
   "cell_type": "code",
   "execution_count": null,
   "metadata": {},
   "outputs": [],
   "source": [
    "from sklearn.naive_bayes import GaussianNB\n",
    "\n",
    "home_team = input('Enter team1\\t')\n",
    "away_team = input('Enter team2\\t')\n",
    "toss_winner = input('Toss winner\\t')\n",
    "\n",
    "if((toss_winner != home_team)):\n",
    "    if(toss_winner != away_team):\n",
    "        print(\"Invalid input\")\n",
    "        sys.exit()\n",
    "\n",
    "print('The cities are\\n')\n",
    "\n",
    "for key, value in encode['city'].items() :\n",
    "    print(key)\n",
    "city = input('Enter city\\t')\n",
    "\n",
    "\n",
    "x_ = df[((df['team1'] == encode['team1'][home_team]) & (df['team2'] == encode['team1'][away_team])) | ((df['team1'] == encode['team1'][away_team]) & (df['team2'] == encode['team1'][home_team]))]\n",
    "\n",
    "x_train = x_[['team1','team2','toss_winner','city']]\n",
    "y_train = x_[['winner']]\n",
    "\n",
    "y_train = y_train.astype(int)\n",
    "logreg = GaussianNB()\n",
    "logreg.fit(x_train, y_train)\n",
    "\n",
    "data = { 'team1' : encode['team1'][home_team] , 'team2' : encode['team1'][away_team], 'toss_winner' : encode['team1'][toss_winner], 'city' : encode['city'][city] }\n",
    "a = pd.DataFrame(data, index=[0])\n",
    "result = logreg.predict(a)\n",
    "\n",
    "for name, id1 in encode['team1'].items():\n",
    "    if id1 == result[0]:\n",
    "        print('\\nProbable Winner is ',name)\n",
    "\n",
    "print('Naive Bayes Classifier score: {}'.format(logreg.score(x_train,y_train)))"
   ]
  },
  {
   "cell_type": "markdown",
   "metadata": {},
   "source": [
    "## Conclusion\n",
    "\n"
   ]
  },
  {
   "cell_type": "markdown",
   "metadata": {},
   "source": [
    "> The logistic regression model has a relatively higher score for most of the data as compared to the decision tree regression model. "
   ]
  },
  {
   "cell_type": "markdown",
   "metadata": {},
   "source": [
    "> This model is not the most accurate model and can only predict the outcome with minimum accuracy as the data available in the dataset is minimal. Many match influencing factors like players playing, the weather condition, form of the players, etc. are missing in the dataset. \n",
    "So, the further scope of this project will be to collect the data necessary for a proper accurate result and train the model accordingly"
   ]
  },
  {
   "cell_type": "code",
   "execution_count": null,
   "metadata": {},
   "outputs": [],
   "source": []
  }
 ],
 "metadata": {
  "kernelspec": {
   "display_name": "Python 3",
   "language": "python",
   "name": "python3"
  },
  "language_info": {
   "codemirror_mode": {
    "name": "ipython",
    "version": 3
   },
   "file_extension": ".py",
   "mimetype": "text/x-python",
   "name": "python",
   "nbconvert_exporter": "python",
   "pygments_lexer": "ipython3",
   "version": "3.7.4"
  }
 },
 "nbformat": 4,
 "nbformat_minor": 2
}
